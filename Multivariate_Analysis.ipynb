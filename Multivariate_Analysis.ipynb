{
  "nbformat": 4,
  "nbformat_minor": 0,
  "metadata": {
    "colab": {
      "name": "Multivariate_Analysis",
      "provenance": [],
      "collapsed_sections": [],
      "authorship_tag": "ABX9TyO6/jitmqvvsYTgEcbg/Rfa",
      "include_colab_link": true
    },
    "kernelspec": {
      "display_name": "Python 3",
      "name": "python3"
    }
  },
  "cells": [
    {
      "cell_type": "markdown",
      "metadata": {
        "id": "view-in-github",
        "colab_type": "text"
      },
      "source": [
        "<a href=\"https://colab.research.google.com/github/gamagilang/ANFIS-Genetic-Algorithm/blob/main/Multivariate_Analysis.ipynb\" target=\"_parent\"><img src=\"https://colab.research.google.com/assets/colab-badge.svg\" alt=\"Open In Colab\"/></a>"
      ]
    },
    {
      "cell_type": "code",
      "metadata": {
        "colab": {
          "base_uri": "https://localhost:8080/"
        },
        "id": "nY2Vqs3iwFPu",
        "outputId": "ec17c9dd-80c8-4597-a006-b273de2681e8"
      },
      "source": [
        "!git clone https://github.com/gamagilang/FeatureReductionPCA\n"
      ],
      "execution_count": null,
      "outputs": [
        {
          "output_type": "stream",
          "text": [
            "Cloning into 'FeatureReductionPCA'...\n",
            "remote: Enumerating objects: 19, done.\u001b[K\n",
            "remote: Counting objects: 100% (19/19), done.\u001b[K\n",
            "remote: Compressing objects: 100% (19/19), done.\u001b[K\n",
            "remote: Total 19 (delta 8), reused 0 (delta 0), pack-reused 0\u001b[K\n",
            "Unpacking objects: 100% (19/19), done.\n"
          ],
          "name": "stdout"
        }
      ]
    },
    {
      "cell_type": "code",
      "metadata": {
        "id": "6LnFw5vNth8Q"
      },
      "source": [
        "import pandas as pd\n",
        "import numpy as np\n",
        "import matplotlib.pyplot as plt"
      ],
      "execution_count": null,
      "outputs": []
    },
    {
      "cell_type": "code",
      "metadata": {
        "colab": {
          "base_uri": "https://localhost:8080/",
          "height": 217
        },
        "id": "4gY6qChGty4C",
        "outputId": "f3863971-1e64-4f4f-a92a-f5d66f862b15"
      },
      "source": [
        "def load_data(x):\n",
        "  df = pd.read_csv(x)\n",
        "  df = df.drop(df.columns[0], axis = 1)\n",
        "  return df\n",
        "df = load_data(r'FeatureReductionPCA/cleandataPGEnew.csv')\n",
        "df.head()\n"
      ],
      "execution_count": null,
      "outputs": [
        {
          "output_type": "execute_result",
          "data": {
            "text/html": [
              "<div>\n",
              "<style scoped>\n",
              "    .dataframe tbody tr th:only-of-type {\n",
              "        vertical-align: middle;\n",
              "    }\n",
              "\n",
              "    .dataframe tbody tr th {\n",
              "        vertical-align: top;\n",
              "    }\n",
              "\n",
              "    .dataframe thead th {\n",
              "        text-align: right;\n",
              "    }\n",
              "</style>\n",
              "<table border=\"1\" class=\"dataframe\">\n",
              "  <thead>\n",
              "    <tr style=\"text-align: right;\">\n",
              "      <th></th>\n",
              "      <th>TI203</th>\n",
              "      <th>PI215</th>\n",
              "      <th>PI216</th>\n",
              "      <th>PI218</th>\n",
              "      <th>MP-1101</th>\n",
              "      <th>PI255A</th>\n",
              "      <th>TI405</th>\n",
              "      <th>TI401</th>\n",
              "      <th>FT402</th>\n",
              "      <th>T_wbulb</th>\n",
              "      <th>SSC_gros</th>\n",
              "    </tr>\n",
              "  </thead>\n",
              "  <tbody>\n",
              "    <tr>\n",
              "      <th>0</th>\n",
              "      <td>180.481644</td>\n",
              "      <td>8.881836</td>\n",
              "      <td>8.850586</td>\n",
              "      <td>9.065430</td>\n",
              "      <td>56.963112</td>\n",
              "      <td>0.148376</td>\n",
              "      <td>51.177979</td>\n",
              "      <td>27.636719</td>\n",
              "      <td>7362.840820</td>\n",
              "      <td>16.244543</td>\n",
              "      <td>8.068487</td>\n",
              "    </tr>\n",
              "    <tr>\n",
              "      <th>1</th>\n",
              "      <td>180.359772</td>\n",
              "      <td>8.923828</td>\n",
              "      <td>8.884766</td>\n",
              "      <td>9.096680</td>\n",
              "      <td>57.243774</td>\n",
              "      <td>0.150208</td>\n",
              "      <td>51.239014</td>\n",
              "      <td>27.783203</td>\n",
              "      <td>6879.880859</td>\n",
              "      <td>16.138443</td>\n",
              "      <td>8.034688</td>\n",
              "    </tr>\n",
              "    <tr>\n",
              "      <th>2</th>\n",
              "      <td>180.329300</td>\n",
              "      <td>8.931641</td>\n",
              "      <td>8.893555</td>\n",
              "      <td>9.090820</td>\n",
              "      <td>57.185303</td>\n",
              "      <td>0.149597</td>\n",
              "      <td>51.330566</td>\n",
              "      <td>27.795410</td>\n",
              "      <td>7206.157715</td>\n",
              "      <td>16.232552</td>\n",
              "      <td>8.036983</td>\n",
              "    </tr>\n",
              "    <tr>\n",
              "      <th>3</th>\n",
              "      <td>180.329300</td>\n",
              "      <td>8.920898</td>\n",
              "      <td>8.887695</td>\n",
              "      <td>9.096680</td>\n",
              "      <td>57.196999</td>\n",
              "      <td>0.149414</td>\n",
              "      <td>51.312256</td>\n",
              "      <td>27.783203</td>\n",
              "      <td>7182.403320</td>\n",
              "      <td>16.131260</td>\n",
              "      <td>8.032251</td>\n",
              "    </tr>\n",
              "    <tr>\n",
              "      <th>4</th>\n",
              "      <td>180.329300</td>\n",
              "      <td>8.928711</td>\n",
              "      <td>8.891602</td>\n",
              "      <td>9.088867</td>\n",
              "      <td>57.196999</td>\n",
              "      <td>0.149658</td>\n",
              "      <td>51.232910</td>\n",
              "      <td>27.734375</td>\n",
              "      <td>7300.821777</td>\n",
              "      <td>16.166405</td>\n",
              "      <td>8.048654</td>\n",
              "    </tr>\n",
              "  </tbody>\n",
              "</table>\n",
              "</div>"
            ],
            "text/plain": [
              "        TI203     PI215     PI216  ...        FT402    T_wbulb  SSC_gros\n",
              "0  180.481644  8.881836  8.850586  ...  7362.840820  16.244543  8.068487\n",
              "1  180.359772  8.923828  8.884766  ...  6879.880859  16.138443  8.034688\n",
              "2  180.329300  8.931641  8.893555  ...  7206.157715  16.232552  8.036983\n",
              "3  180.329300  8.920898  8.887695  ...  7182.403320  16.131260  8.032251\n",
              "4  180.329300  8.928711  8.891602  ...  7300.821777  16.166405  8.048654\n",
              "\n",
              "[5 rows x 11 columns]"
            ]
          },
          "metadata": {
            "tags": []
          },
          "execution_count": 3
        }
      ]
    },
    {
      "cell_type": "code",
      "metadata": {
        "colab": {
          "base_uri": "https://localhost:8080/"
        },
        "id": "bWPz9VkkumOy",
        "outputId": "d8c07b8c-9eb4-4f3d-8b7b-4b965184270b"
      },
      "source": [
        "# split the input and output data\n",
        "def input_output_split():\n",
        "  x = df.loc[:,'TI203':'T_wbulb'].values\n",
        "  y = df.loc[:,'SSC_gros'].values\n",
        "  return x,y\n",
        "x,y = input_output_split()\n",
        "print('Observed feature')\n",
        "print(x)\n",
        "print('\\nOutput Feature')\n",
        "print(y)"
      ],
      "execution_count": null,
      "outputs": [
        {
          "output_type": "stream",
          "text": [
            "Observed feature\n",
            "[[ 180.4816437     8.88183594    8.85058594 ...   27.63671875\n",
            "  7362.84082      16.24454308]\n",
            " [ 180.3597717     8.92382812    8.88476562 ...   27.78320313\n",
            "  6879.880859     16.13844299]\n",
            " [ 180.3292999     8.93164062    8.89355469 ...   27.79541016\n",
            "  7206.157715     16.23255157]\n",
            " ...\n",
            " [ 180.4054718     8.96289062    8.92578125 ...   28.18603516\n",
            "  7209.544922     15.27706623]\n",
            " [ 180.4968719     8.94824219    8.9140625  ...   28.19213867\n",
            "  7410.353027     15.44374084]\n",
            " [ 180.4664001     8.95605469    8.921875   ...   28.2409668\n",
            "  7046.424805     15.52258968]]\n",
            "\n",
            "Output Feature\n",
            "[8.06848717 8.034688   8.03698254 ... 7.92396593 7.87902546 7.87990904]\n"
          ],
          "name": "stdout"
        }
      ]
    },
    {
      "cell_type": "code",
      "metadata": {
        "colab": {
          "base_uri": "https://localhost:8080/"
        },
        "id": "GHkPVK9av4rm",
        "outputId": "c6a32138-30f5-40c9-ffdb-ed5c0b8c287f"
      },
      "source": [
        "# Standardize the data\n",
        "def Standardize_data(x):\n",
        "  from sklearn.preprocessing import StandardScaler\n",
        "  x_std = StandardScaler().fit_transform(x)\n",
        "  return x_std\n",
        "x_std = Standardize_data(x)\n",
        "df_x_std = np.round(pd.DataFrame(x_std, columns = df.columns[0:10]),3)\n",
        "print(df_x_std.head())\n",
        "df_x_std.to_excel('input_standardize.xlsx')"
      ],
      "execution_count": null,
      "outputs": [
        {
          "output_type": "stream",
          "text": [
            "   TI203  PI215  PI216  PI218  MP-1101  PI255A  TI405  TI401  FT402  T_wbulb\n",
            "0  0.904 -1.526 -1.510 -1.212   -2.138  -1.100 -1.062 -1.424  1.161   -0.647\n",
            "1 -0.752 -0.899 -0.964 -0.689   -0.564  -0.749 -0.980 -1.192 -1.667   -0.752\n",
            "2 -1.166 -0.783 -0.824 -0.787   -0.892  -0.866 -0.857 -1.172  0.244   -0.659\n",
            "3 -1.166 -0.943 -0.917 -0.689   -0.826  -0.901 -0.882 -1.192  0.105   -0.759\n",
            "4 -1.166 -0.826 -0.855 -0.820   -0.826  -0.854 -0.988 -1.269  0.798   -0.724\n"
          ],
          "name": "stdout"
        }
      ]
    },
    {
      "cell_type": "code",
      "metadata": {
        "colab": {
          "base_uri": "https://localhost:8080/"
        },
        "id": "0cUA5Hqb-6Pi",
        "outputId": "6f8a71b8-2981-49a6-e3ec-b4120fad2028"
      },
      "source": [
        "df_x_std.shape[0]"
      ],
      "execution_count": null,
      "outputs": [
        {
          "output_type": "execute_result",
          "data": {
            "text/plain": [
              "1972"
            ]
          },
          "metadata": {
            "tags": []
          },
          "execution_count": 6
        }
      ]
    },
    {
      "cell_type": "code",
      "metadata": {
        "colab": {
          "base_uri": "https://localhost:8080/",
          "height": 285
        },
        "id": "No3Mwi18dMgV",
        "outputId": "267a6a55-8e97-4a26-cbb4-3e7778507346"
      },
      "source": [
        "plt.plot(df_x_std['TI203'])"
      ],
      "execution_count": null,
      "outputs": [
        {
          "output_type": "execute_result",
          "data": {
            "text/plain": [
              "[<matplotlib.lines.Line2D at 0x7fa49151af28>]"
            ]
          },
          "metadata": {
            "tags": []
          },
          "execution_count": 7
        },
        {
          "output_type": "display_data",
          "data": {
            "image/png": "[encoded data removed]",
            "text/plain": [
              "<Figure size 432x288 with 1 Axes>"
            ]
          },
          "metadata": {
            "tags": [],
            "needs_background": "light"
          }
        }
      ]
    },
    {
      "cell_type": "code",
      "metadata": {
        "id": "vkE9EeF9m1QS"
      },
      "source": [
        "def cov_matrix(x):\n",
        "  import numpy as np\n",
        "  mean_vector = np.mean(x, axis = 0)\n",
        "  cov_matrix = (x-mean_vector).T.dot(x-mean_vector)/(x.shape[0]-1)\n",
        "  return cov_matrix,mean_vector\n",
        "cov_matrix,mean_vector = cov_matrix(df_x_std)\n",
        "df_cov_matrix = np.round(pd.DataFrame(cov_matrix),3)\n",
        "#df_mean_vector = np.round(pd.DataFrame(mean_vector),1)\n",
        "#print('Covariance Matrix \\n{}'.format(df_cov_matrix))\n",
        "#df_cov_matrix.to_excel(\"cov_matrix_pca.xlsx\")\n",
        "mean_vector.to_excel('mean_vector.xlsx')"
      ],
      "execution_count": null,
      "outputs": []
    },
    {
      "cell_type": "code",
      "metadata": {
        "colab": {
          "base_uri": "https://localhost:8080/"
        },
        "id": "8XjHZ6rfbwdo",
        "outputId": "1b34561a-911f-425e-f473-606acd1b7933"
      },
      "source": [
        "mean_vector"
      ],
      "execution_count": null,
      "outputs": [
        {
          "output_type": "execute_result",
          "data": {
            "text/plain": [
              "TI203      1.886410e-04\n",
              "PI215     -8.113590e-06\n",
              "PI216      7.071197e-17\n",
              "PI218      6.592292e-06\n",
              "MP-1101   -1.115619e-05\n",
              "PI255A    -5.578093e-06\n",
              "TI405     -1.521298e-06\n",
              "TI401     -1.369168e-05\n",
              "FT402     -1.115619e-05\n",
              "T_wbulb    4.563895e-06\n",
              "dtype: float64"
            ]
          },
          "metadata": {
            "tags": []
          },
          "execution_count": 9
        }
      ]
    },
    {
      "cell_type": "code",
      "metadata": {
        "id": "cnB4z3rMnVzr",
        "colab": {
          "base_uri": "https://localhost:8080/"
        },
        "outputId": "74f959bd-08b8-499d-eeaf-44f22c96dbf2"
      },
      "source": [
        "def eigen_decomposition(x):\n",
        "  eig_vals, eig_vecs = np.linalg.eig(x)\n",
        "  return eig_vals, eig_vecs\n",
        "eig_vals, eig_vecs = eigen_decomposition(df_cov_matrix.values)\n",
        "print('Eigenvectors \\n {}'. format(eig_vecs))\n",
        "print('\\nEigenvalues \\n {}'.format(eig_vals))\n"
      ],
      "execution_count": null,
      "outputs": [
        {
          "output_type": "stream",
          "text": [
            "Eigenvectors \n",
            " [[ 1.70494086e-01  4.26277952e-01  2.60512607e-02 -8.82141153e-01\n",
            "   9.19983710e-02  3.66318974e-02 -8.20986352e-03  1.92752994e-02\n",
            "   9.81151169e-03 -5.13716016e-03]\n",
            " [-3.79184667e-01  1.73662834e-01 -6.60110341e-02  3.73877068e-02\n",
            "   1.64172897e-01 -1.66150471e-01 -7.03614639e-01  5.12835358e-01\n",
            "   8.18209365e-02  3.12707767e-02]\n",
            " [-3.78844795e-01  1.79337837e-01 -6.51221959e-02  2.54853078e-02\n",
            "   1.55058353e-01 -1.78969878e-01  7.10255029e-01  5.01604428e-01\n",
            "   8.46377119e-02  1.08673128e-02]\n",
            " [-3.74065521e-01  1.82036479e-01 -6.85165539e-02  9.13229842e-03\n",
            "   1.63151390e-01 -2.08498256e-01  3.03593982e-03 -5.40177273e-01\n",
            "   2.39051342e-01  6.34920187e-01]\n",
            " [-2.14209706e-01  6.68632259e-01 -2.04637740e-01  2.77254846e-01\n",
            "  -1.45978912e-01  4.97459160e-01 -1.75500493e-03 -1.92420278e-01\n",
            "  -1.07897394e-01 -2.66180953e-01]\n",
            " [-3.70485198e-01 -1.54120129e-01  3.60113618e-02 -1.27683961e-01\n",
            "   3.12226897e-01 -2.83049553e-01 -1.42484037e-02 -3.87879413e-01\n",
            "   7.18943518e-02 -6.98543309e-01]\n",
            " [-3.75482813e-01 -1.29714570e-01  6.36964902e-02 -1.64072538e-01\n",
            "  -1.64827745e-01 -4.83501341e-02  1.11991036e-03 -4.45094591e-02\n",
            "  -8.71534272e-01  1.41948911e-01]\n",
            " [-3.46801281e-01 -1.18021529e-01  1.47634599e-01 -2.00952959e-01\n",
            "  -8.18017810e-01 -1.56799051e-02 -8.33774239e-03  9.78583185e-03\n",
            "   3.58725387e-01 -7.33044586e-02]\n",
            " [-4.56776004e-04  2.48683641e-01  9.51244031e-01  1.57312206e-01\n",
            "   9.11719322e-02 -3.48111421e-03  4.03694395e-04 -1.77694571e-03\n",
            "  -1.26462315e-02  7.49756603e-03]\n",
            " [-3.15116809e-01 -3.99259779e-01  1.10166278e-01 -1.85671166e-01\n",
            "   3.00820493e-01  7.51912233e-01  1.05157757e-02  6.06123424e-02\n",
            "   1.53862015e-01  1.06581901e-01]]\n",
            "\n",
            "Eigenvalues \n",
            " [6.55534109e+00 1.22872953e+00 9.99803032e-01 7.51118267e-01\n",
            " 2.07498816e-01 1.68096639e-01 8.93626407e-04 1.92573154e-02\n",
            " 3.27333489e-02 4.45283282e-02]\n"
          ],
          "name": "stdout"
        }
      ]
    },
    {
      "cell_type": "code",
      "metadata": {
        "id": "S9xvhIjAn_Hg",
        "colab": {
          "base_uri": "https://localhost:8080/"
        },
        "outputId": "b3fee420-5860-4683-b488-5caf52046073"
      },
      "source": [
        "def sort_eigen(eig_val,eig_vec):\n",
        "  # Make a list of (eigenvalue, eigenvector) tuples\n",
        "  eig_pairs = [(np.abs(eig_val[i]), eig_vec[:,i]) for i in range(len(eig_val))]\n",
        "  # Sort the (eigenvalue, eigenvector) tuples from high to low\n",
        "  eig_pairs.sort(key=lambda x: x[0], reverse=True)\n",
        "  return eig_pairs\n",
        "eig_pairs = sort_eigen(eig_vals,eig_vecs)\n",
        "print('\\nEigenvalues in descending order:')\n",
        "for i in eig_pairs:\n",
        "  print(i[0])\n",
        "print('\\nEigenvector in descending order:')\n",
        "for i in eig_pairs:\n",
        "  print(i[1])"
      ],
      "execution_count": null,
      "outputs": [
        {
          "output_type": "stream",
          "text": [
            "\n",
            "Eigenvalues in descending order:\n",
            "6.5553410936014735\n",
            "1.2287295339662194\n",
            "0.9998030316148554\n",
            "0.751118267282388\n",
            "0.2074988155226523\n",
            "0.1680966391009328\n",
            "0.04452832819146166\n",
            "0.032733348912254705\n",
            "0.01925731540079692\n",
            "0.0008936264069659264\n",
            "\n",
            "Eigenvector in descending order:\n",
            "[ 0.17049409 -0.37918467 -0.3788448  -0.37406552 -0.21420971 -0.3704852\n",
            " -0.37548281 -0.34680128 -0.00045678 -0.31511681]\n",
            "[ 0.42627795  0.17366283  0.17933784  0.18203648  0.66863226 -0.15412013\n",
            " -0.12971457 -0.11802153  0.24868364 -0.39925978]\n",
            "[ 0.02605126 -0.06601103 -0.0651222  -0.06851655 -0.20463774  0.03601136\n",
            "  0.06369649  0.1476346   0.95124403  0.11016628]\n",
            "[-0.88214115  0.03738771  0.02548531  0.0091323   0.27725485 -0.12768396\n",
            " -0.16407254 -0.20095296  0.15731221 -0.18567117]\n",
            "[ 0.09199837  0.1641729   0.15505835  0.16315139 -0.14597891  0.3122269\n",
            " -0.16482775 -0.81801781  0.09117193  0.30082049]\n",
            "[ 0.0366319  -0.16615047 -0.17896988 -0.20849826  0.49745916 -0.28304955\n",
            " -0.04835013 -0.01567991 -0.00348111  0.75191223]\n",
            "[-0.00513716  0.03127078  0.01086731  0.63492019 -0.26618095 -0.69854331\n",
            "  0.14194891 -0.07330446  0.00749757  0.1065819 ]\n",
            "[ 0.00981151  0.08182094  0.08463771  0.23905134 -0.10789739  0.07189435\n",
            " -0.87153427  0.35872539 -0.01264623  0.15386201]\n",
            "[ 0.0192753   0.51283536  0.50160443 -0.54017727 -0.19242028 -0.38787941\n",
            " -0.04450946  0.00978583 -0.00177695  0.06061234]\n",
            "[-8.20986352e-03 -7.03614639e-01  7.10255029e-01  3.03593982e-03\n",
            " -1.75500493e-03 -1.42484037e-02  1.11991036e-03 -8.33774239e-03\n",
            "  4.03694395e-04  1.05157757e-02]\n"
          ],
          "name": "stdout"
        }
      ]
    },
    {
      "cell_type": "code",
      "metadata": {
        "id": "i9Z1ggvqQUMk"
      },
      "source": [
        ""
      ],
      "execution_count": null,
      "outputs": []
    },
    {
      "cell_type": "code",
      "metadata": {
        "id": "i8BaVXXuDK0G",
        "colab": {
          "base_uri": "https://localhost:8080/",
          "height": 347
        },
        "outputId": "61989060-af72-405c-a313-08ef11a67066"
      },
      "source": [
        "def pca_loadings(eigpairs,input):\n",
        "  data =  []\n",
        "  for i in eigpairs:\n",
        "    data.append(i[1])\n",
        "  a = pd.DataFrame(data).T\n",
        "  a.columns = [''.join(['PC',f'{i+1}']) for i in range (a.shape[1])] \n",
        "  a.index = input.drop('SSC_gros',axis = 1).columns\n",
        "  return a\n",
        "loadings = np.round(pca_loadings(eig_pairs,df),3)\n",
        "loadings.to_excel('loading_factor.xlsx')\n",
        "loadings\n"
      ],
      "execution_count": null,
      "outputs": [
        {
          "output_type": "execute_result",
          "data": {
            "text/html": [
              "<div>\n",
              "<style scoped>\n",
              "    .dataframe tbody tr th:only-of-type {\n",
              "        vertical-align: middle;\n",
              "    }\n",
              "\n",
              "    .dataframe tbody tr th {\n",
              "        vertical-align: top;\n",
              "    }\n",
              "\n",
              "    .dataframe thead th {\n",
              "        text-align: right;\n",
              "    }\n",
              "</style>\n",
              "<table border=\"1\" class=\"dataframe\">\n",
              "  <thead>\n",
              "    <tr style=\"text-align: right;\">\n",
              "      <th></th>\n",
              "      <th>PC1</th>\n",
              "      <th>PC2</th>\n",
              "      <th>PC3</th>\n",
              "      <th>PC4</th>\n",
              "      <th>PC5</th>\n",
              "      <th>PC6</th>\n",
              "      <th>PC7</th>\n",
              "      <th>PC8</th>\n",
              "      <th>PC9</th>\n",
              "      <th>PC10</th>\n",
              "    </tr>\n",
              "  </thead>\n",
              "  <tbody>\n",
              "    <tr>\n",
              "      <th>TI203</th>\n",
              "      <td>0.170</td>\n",
              "      <td>0.426</td>\n",
              "      <td>0.026</td>\n",
              "      <td>-0.882</td>\n",
              "      <td>0.092</td>\n",
              "      <td>0.037</td>\n",
              "      <td>-0.005</td>\n",
              "      <td>0.010</td>\n",
              "      <td>0.019</td>\n",
              "      <td>-0.008</td>\n",
              "    </tr>\n",
              "    <tr>\n",
              "      <th>PI215</th>\n",
              "      <td>-0.379</td>\n",
              "      <td>0.174</td>\n",
              "      <td>-0.066</td>\n",
              "      <td>0.037</td>\n",
              "      <td>0.164</td>\n",
              "      <td>-0.166</td>\n",
              "      <td>0.031</td>\n",
              "      <td>0.082</td>\n",
              "      <td>0.513</td>\n",
              "      <td>-0.704</td>\n",
              "    </tr>\n",
              "    <tr>\n",
              "      <th>PI216</th>\n",
              "      <td>-0.379</td>\n",
              "      <td>0.179</td>\n",
              "      <td>-0.065</td>\n",
              "      <td>0.025</td>\n",
              "      <td>0.155</td>\n",
              "      <td>-0.179</td>\n",
              "      <td>0.011</td>\n",
              "      <td>0.085</td>\n",
              "      <td>0.502</td>\n",
              "      <td>0.710</td>\n",
              "    </tr>\n",
              "    <tr>\n",
              "      <th>PI218</th>\n",
              "      <td>-0.374</td>\n",
              "      <td>0.182</td>\n",
              "      <td>-0.069</td>\n",
              "      <td>0.009</td>\n",
              "      <td>0.163</td>\n",
              "      <td>-0.208</td>\n",
              "      <td>0.635</td>\n",
              "      <td>0.239</td>\n",
              "      <td>-0.540</td>\n",
              "      <td>0.003</td>\n",
              "    </tr>\n",
              "    <tr>\n",
              "      <th>MP-1101</th>\n",
              "      <td>-0.214</td>\n",
              "      <td>0.669</td>\n",
              "      <td>-0.205</td>\n",
              "      <td>0.277</td>\n",
              "      <td>-0.146</td>\n",
              "      <td>0.497</td>\n",
              "      <td>-0.266</td>\n",
              "      <td>-0.108</td>\n",
              "      <td>-0.192</td>\n",
              "      <td>-0.002</td>\n",
              "    </tr>\n",
              "    <tr>\n",
              "      <th>PI255A</th>\n",
              "      <td>-0.370</td>\n",
              "      <td>-0.154</td>\n",
              "      <td>0.036</td>\n",
              "      <td>-0.128</td>\n",
              "      <td>0.312</td>\n",
              "      <td>-0.283</td>\n",
              "      <td>-0.699</td>\n",
              "      <td>0.072</td>\n",
              "      <td>-0.388</td>\n",
              "      <td>-0.014</td>\n",
              "    </tr>\n",
              "    <tr>\n",
              "      <th>TI405</th>\n",
              "      <td>-0.375</td>\n",
              "      <td>-0.130</td>\n",
              "      <td>0.064</td>\n",
              "      <td>-0.164</td>\n",
              "      <td>-0.165</td>\n",
              "      <td>-0.048</td>\n",
              "      <td>0.142</td>\n",
              "      <td>-0.872</td>\n",
              "      <td>-0.045</td>\n",
              "      <td>0.001</td>\n",
              "    </tr>\n",
              "    <tr>\n",
              "      <th>TI401</th>\n",
              "      <td>-0.347</td>\n",
              "      <td>-0.118</td>\n",
              "      <td>0.148</td>\n",
              "      <td>-0.201</td>\n",
              "      <td>-0.818</td>\n",
              "      <td>-0.016</td>\n",
              "      <td>-0.073</td>\n",
              "      <td>0.359</td>\n",
              "      <td>0.010</td>\n",
              "      <td>-0.008</td>\n",
              "    </tr>\n",
              "    <tr>\n",
              "      <th>FT402</th>\n",
              "      <td>-0.000</td>\n",
              "      <td>0.249</td>\n",
              "      <td>0.951</td>\n",
              "      <td>0.157</td>\n",
              "      <td>0.091</td>\n",
              "      <td>-0.003</td>\n",
              "      <td>0.007</td>\n",
              "      <td>-0.013</td>\n",
              "      <td>-0.002</td>\n",
              "      <td>0.000</td>\n",
              "    </tr>\n",
              "    <tr>\n",
              "      <th>T_wbulb</th>\n",
              "      <td>-0.315</td>\n",
              "      <td>-0.399</td>\n",
              "      <td>0.110</td>\n",
              "      <td>-0.186</td>\n",
              "      <td>0.301</td>\n",
              "      <td>0.752</td>\n",
              "      <td>0.107</td>\n",
              "      <td>0.154</td>\n",
              "      <td>0.061</td>\n",
              "      <td>0.011</td>\n",
              "    </tr>\n",
              "  </tbody>\n",
              "</table>\n",
              "</div>"
            ],
            "text/plain": [
              "           PC1    PC2    PC3    PC4    PC5    PC6    PC7    PC8    PC9   PC10\n",
              "TI203    0.170  0.426  0.026 -0.882  0.092  0.037 -0.005  0.010  0.019 -0.008\n",
              "PI215   -0.379  0.174 -0.066  0.037  0.164 -0.166  0.031  0.082  0.513 -0.704\n",
              "PI216   -0.379  0.179 -0.065  0.025  0.155 -0.179  0.011  0.085  0.502  0.710\n",
              "PI218   -0.374  0.182 -0.069  0.009  0.163 -0.208  0.635  0.239 -0.540  0.003\n",
              "MP-1101 -0.214  0.669 -0.205  0.277 -0.146  0.497 -0.266 -0.108 -0.192 -0.002\n",
              "PI255A  -0.370 -0.154  0.036 -0.128  0.312 -0.283 -0.699  0.072 -0.388 -0.014\n",
              "TI405   -0.375 -0.130  0.064 -0.164 -0.165 -0.048  0.142 -0.872 -0.045  0.001\n",
              "TI401   -0.347 -0.118  0.148 -0.201 -0.818 -0.016 -0.073  0.359  0.010 -0.008\n",
              "FT402   -0.000  0.249  0.951  0.157  0.091 -0.003  0.007 -0.013 -0.002  0.000\n",
              "T_wbulb -0.315 -0.399  0.110 -0.186  0.301  0.752  0.107  0.154  0.061  0.011"
            ]
          },
          "metadata": {
            "tags": []
          },
          "execution_count": 12
        }
      ]
    },
    {
      "cell_type": "code",
      "metadata": {
        "id": "q9Nf1JIIpjvi",
        "colab": {
          "base_uri": "https://localhost:8080/"
        },
        "outputId": "d64d5834-a546-4955-daee-6860a14b56c5"
      },
      "source": [
        "loading_PC2 = np.sum(np.square(loadings.PC4.values))\n",
        "loading_PC2"
      ],
      "execution_count": null,
      "outputs": [
        {
          "output_type": "execute_result",
          "data": {
            "text/plain": [
              "0.999654"
            ]
          },
          "metadata": {
            "tags": []
          },
          "execution_count": 13
        }
      ]
    },
    {
      "cell_type": "code",
      "metadata": {
        "id": "r8TodpMsQ9_C"
      },
      "source": [
        "def pca_variance(eigpairs):\n",
        "  list_var = []\n",
        "  for i in eigpairs:\n",
        "    list_var.append(i[0])\n",
        "    eig_val = pd.DataFrame(list_var).T\n",
        "    eig_val.columns = [''.join(['PC',f'{i+1}']) for i in range (eig_val.shape[1])]\n",
        "  list_var_ratio = []\n",
        "  for i in eig_val.values:\n",
        "    list_var_ratio.append((i/np.sum(eig_val.values))*100)     \n",
        "    eig_val_ratio = pd.DataFrame(list_var_ratio)  \n",
        "    eig_val_ratio.columns = [''.join(['PC',f'{i+1}']) for i in range (eig_val_ratio.shape[1])]\n",
        "  return np.round(eig_val,3),eig_val_ratio \n",
        "sorted_variance,sorted_exp_variance= pca_variance(eig_pairs)\n",
        "sorted_variance.to_excel('sorted_variance.xlsx')\n",
        "sorted_exp_variance.to_excel('sorted_exp_variance.xlsx')"
      ],
      "execution_count": null,
      "outputs": []
    },
    {
      "cell_type": "markdown",
      "metadata": {
        "id": "0nhCDWgyCkXH"
      },
      "source": [
        "Calculate the contribution : Use only the first 4 principal components which retain 99"
      ]
    },
    {
      "cell_type": "code",
      "metadata": {
        "id": "J3QWp-g2Irsc"
      },
      "source": [
        "def contribution(x):\n",
        "  #for i in x.index:\n",
        "  c = np.abs(x.drop(x.columns[6:10],axis = 1))\n",
        "  c = c.sum(axis = 1)  \n",
        "   # return c.append(i)\n",
        "  contribution = pd.DataFrame(c).reset_index().rename(columns={'index':'Variable',0:'Contribution'})\n",
        "  contribution_ratio = []\n",
        "  for i in contribution['Contribution']:\n",
        "    contribution_ratio.append((i/np.sum(contribution['Contribution'].values))*100)\n",
        "  contribution_ratio = pd.DataFrame(contribution_ratio).reset_index().rename(columns={'index':'Variable',0:'Contribution Ratio'})\n",
        "  contribution_ratio['Variable'] = contribution['Variable'].values\n",
        "  contribution = contribution.sort_values(by = 'Contribution', ascending=False)\n",
        "  contribution_ratio = contribution_ratio.sort_values(by = 'Contribution Ratio', ascending=False)\n",
        "  return contribution,contribution_ratio \n",
        "contribution,contribution_ratio = contribution(loadings)\n",
        "contribution_ratio.to_excel('contribution_ratio.xlsx')"
      ],
      "execution_count": null,
      "outputs": []
    },
    {
      "cell_type": "markdown",
      "metadata": {
        "id": "AzwdKCW-oum3"
      },
      "source": [
        "Loadings=Eigenvectors⋅√Eigenvalues"
      ]
    },
    {
      "cell_type": "markdown",
      "metadata": {
        "id": "nVaDevqTD_WV"
      },
      "source": [
        "**PCA Intrepretation**\n"
      ]
    },
    {
      "cell_type": "code",
      "metadata": {
        "id": "8JB3fjOwFWzP",
        "colab": {
          "base_uri": "https://localhost:8080/"
        },
        "outputId": "305b11b3-e876-460d-f660-38b01cfc140b"
      },
      "source": [
        "#matrix_w = matrix_w\n",
        "matrix_w = np.hstack((eig_pairs[0][1].reshape(10,1),\n",
        "                      eig_pairs[1][1].reshape(10,1)))\n",
        "\n",
        "print(matrix_w)"
      ],
      "execution_count": null,
      "outputs": [
        {
          "output_type": "stream",
          "text": [
            "[[ 1.70494086e-01  4.26277952e-01]\n",
            " [-3.79184667e-01  1.73662834e-01]\n",
            " [-3.78844795e-01  1.79337837e-01]\n",
            " [-3.74065521e-01  1.82036479e-01]\n",
            " [-2.14209706e-01  6.68632259e-01]\n",
            " [-3.70485198e-01 -1.54120129e-01]\n",
            " [-3.75482813e-01 -1.29714570e-01]\n",
            " [-3.46801281e-01 -1.18021529e-01]\n",
            " [-4.56776004e-04  2.48683641e-01]\n",
            " [-3.15116809e-01 -3.99259779e-01]]\n"
          ],
          "name": "stdout"
        }
      ]
    },
    {
      "cell_type": "code",
      "metadata": {
        "id": "zlLwNK7CFZ5E",
        "colab": {
          "base_uri": "https://localhost:8080/",
          "height": 406
        },
        "outputId": "67586d7d-eda8-4332-ded2-5aba201b48b3"
      },
      "source": [
        "#Projected Data\n",
        "x_new = x_std.dot(matrix_w)\n",
        "x_new = pd.DataFrame(data = x_new, columns=('PC1','PC2'))\n",
        "x_new"
      ],
      "execution_count": null,
      "outputs": [
        {
          "output_type": "execute_result",
          "data": {
            "text/html": [
              "<div>\n",
              "<style scoped>\n",
              "    .dataframe tbody tr th:only-of-type {\n",
              "        vertical-align: middle;\n",
              "    }\n",
              "\n",
              "    .dataframe tbody tr th {\n",
              "        vertical-align: top;\n",
              "    }\n",
              "\n",
              "    .dataframe thead th {\n",
              "        text-align: right;\n",
              "    }\n",
              "</style>\n",
              "<table border=\"1\" class=\"dataframe\">\n",
              "  <thead>\n",
              "    <tr style=\"text-align: right;\">\n",
              "      <th></th>\n",
              "      <th>PC1</th>\n",
              "      <th>PC2</th>\n",
              "    </tr>\n",
              "  </thead>\n",
              "  <tbody>\n",
              "    <tr>\n",
              "      <th>0</th>\n",
              "      <td>3.719881</td>\n",
              "      <td>-0.778242</td>\n",
              "    </tr>\n",
              "    <tr>\n",
              "      <th>1</th>\n",
              "      <td>2.252816</td>\n",
              "      <td>-0.883344</td>\n",
              "    </tr>\n",
              "    <tr>\n",
              "      <th>2</th>\n",
              "      <td>2.152171</td>\n",
              "      <td>-0.813764</td>\n",
              "    </tr>\n",
              "    <tr>\n",
              "      <th>3</th>\n",
              "      <td>2.258288</td>\n",
              "      <td>-0.780249</td>\n",
              "    </tr>\n",
              "    <tr>\n",
              "      <th>4</th>\n",
              "      <td>2.277635</td>\n",
              "      <td>-0.598340</td>\n",
              "    </tr>\n",
              "    <tr>\n",
              "      <th>...</th>\n",
              "      <td>...</td>\n",
              "      <td>...</td>\n",
              "    </tr>\n",
              "    <tr>\n",
              "      <th>1967</th>\n",
              "      <td>0.681327</td>\n",
              "      <td>1.275505</td>\n",
              "    </tr>\n",
              "    <tr>\n",
              "      <th>1968</th>\n",
              "      <td>1.297219</td>\n",
              "      <td>1.217941</td>\n",
              "    </tr>\n",
              "    <tr>\n",
              "      <th>1969</th>\n",
              "      <td>1.380462</td>\n",
              "      <td>1.034485</td>\n",
              "    </tr>\n",
              "    <tr>\n",
              "      <th>1970</th>\n",
              "      <td>1.929450</td>\n",
              "      <td>1.599799</td>\n",
              "    </tr>\n",
              "    <tr>\n",
              "      <th>1971</th>\n",
              "      <td>1.702982</td>\n",
              "      <td>0.984219</td>\n",
              "    </tr>\n",
              "  </tbody>\n",
              "</table>\n",
              "<p>1972 rows × 2 columns</p>\n",
              "</div>"
            ],
            "text/plain": [
              "           PC1       PC2\n",
              "0     3.719881 -0.778242\n",
              "1     2.252816 -0.883344\n",
              "2     2.152171 -0.813764\n",
              "3     2.258288 -0.780249\n",
              "4     2.277635 -0.598340\n",
              "...        ...       ...\n",
              "1967  0.681327  1.275505\n",
              "1968  1.297219  1.217941\n",
              "1969  1.380462  1.034485\n",
              "1970  1.929450  1.599799\n",
              "1971  1.702982  0.984219\n",
              "\n",
              "[1972 rows x 2 columns]"
            ]
          },
          "metadata": {
            "tags": []
          },
          "execution_count": 17
        }
      ]
    },
    {
      "cell_type": "code",
      "metadata": {
        "id": "v2kTFOWIuMtb",
        "colab": {
          "base_uri": "https://localhost:8080/"
        },
        "outputId": "7846de9c-1c7c-4d13-a828-161777f0c287"
      },
      "source": [
        "loadings['PC1'].index"
      ],
      "execution_count": null,
      "outputs": [
        {
          "output_type": "execute_result",
          "data": {
            "text/plain": [
              "Index(['TI203', 'PI215', 'PI216', 'PI218', 'MP-1101', 'PI255A', 'TI405',\n",
              "       'TI401', 'FT402', 'T_wbulb'],\n",
              "      dtype='object')"
            ]
          },
          "metadata": {
            "tags": []
          },
          "execution_count": 18
        }
      ]
    },
    {
      "cell_type": "code",
      "metadata": {
        "id": "9aHGoAQCceUN",
        "colab": {
          "base_uri": "https://localhost:8080/",
          "height": 456
        },
        "outputId": "97731ac7-89cc-4507-9f79-b277245e0614"
      },
      "source": [
        "def biplots(x,y):\n",
        "    #x = variance\n",
        "    #y = variance_ratio\n",
        "    subject = y.columns\n",
        "    x = x.values.T\n",
        "    y = y.values\n",
        "    cumulated_var_ratio = []\n",
        "    #series = pd.Series(y)\n",
        "    cumsum = y.cumsum()\n",
        "    cumulated_var_ratio.append(cumsum)\n",
        "    cumulated_var_ratio = cumulated_var_ratio[0]\n",
        "    index = np.arange(len(x))\n",
        "    #indexy = \n",
        "    fig,ax = plt.subplots(figsize=(10,7))\n",
        "    ax.plot(x,color='black', marker='+', linestyle='dashed',linewidth=1, markersize=9, markerfacecolor = 'red')\n",
        "    ax2 = ax.twinx()\n",
        "    ax2.plot(cumulated_var_ratio,color='black', marker='o', linestyle='dashed',linewidth=1, markersize=7, markerfacecolor = 'blue')\n",
        "    ax2.set_ylim(0,102)\n",
        "    plt.xticks(index,subject,fontsize = 15)\n",
        "    #ax.set_xticks(index,subject,labelsize = 15)\n",
        "    ax.tick_params(labelsize=15)\n",
        "    plt.yticks(fontsize=15)\n",
        "    ax.set_ylabel('Eigenvalue', fontsize = 15, labelpad = 15)\n",
        "    ax2.set_ylabel('Cumulative Percentage', fontsize = 15, labelpad = 15)\n",
        "    plt.grid()\n",
        "    plt.show()\n",
        "    return cumulated_var_ratio\n",
        "biplots(sorted_variance,sorted_exp_variance)\n"
      ],
      "execution_count": null,
      "outputs": [
        {
          "output_type": "display_data",
          "data": {
            "image/png": "[encoded data removed]",
            "text/plain": [
              "<Figure size 720x504 with 2 Axes>"
            ]
          },
          "metadata": {
            "tags": [],
            "needs_background": "light"
          }
        },
        {
          "output_type": "execute_result",
          "data": {
            "text/plain": [
              "array([ 65.50101013,  77.77848349,  87.76852177,  95.2737003 ,\n",
              "        97.3470298 ,  99.02665249,  99.47157983,  99.79865166,\n",
              "        99.99107088, 100.        ])"
            ]
          },
          "metadata": {
            "tags": []
          },
          "execution_count": 19
        }
      ]
    },
    {
      "cell_type": "code",
      "metadata": {
        "id": "p7Tj-fGdZuZa",
        "colab": {
          "base_uri": "https://localhost:8080/",
          "height": 510
        },
        "outputId": "e3c39554-30f6-40d4-8efa-19234d478a4c"
      },
      "source": [
        "## Create Biplot\n",
        "def biplot(DataInputs, reduced_data, DataOutputs, loading):\n",
        "  fig, ax = plt.subplots(figsize=(10,8))\n",
        "  # scatterplot reduced data\n",
        "  scalex = 1/(reduced_data.loc[:,'PC1'].max()-reduced_data.loc[:,'PC1'].min())\n",
        "  scaley = 1/(reduced_data.loc[:,'PC2'].max()-reduced_data.loc[:,'PC2'].min())\n",
        "  plt.scatter(x=reduced_data.loc[:,'PC1']*scalex, y = reduced_data.loc[:,'PC2']*scaley, c = DataOutputs, cmap='rainbow')\n",
        "  feature_vector = loading.loc[:,'PC1':'PC2'].values\n",
        "  # use scaling factor \n",
        "  arrow_size, text_pos = 0.4,1.1\n",
        "  #projection of the original feature\n",
        "  for i,v in enumerate(feature_vector):\n",
        "    #plt.arrow(0,0,arrow_size*v[0], arrow_size*v[1], head_width = 0.02, head_length = 0.02, linewidth = 0.5, color = 'black')\n",
        "    plt.arrow(0,0,v[0],v[1], head_width = 0.02, head_length = 0.02, linewidth = 0.5, color = 'black')\n",
        "    plt.text(v[0]*text_pos, v[1]*text_pos, DataInputs.columns[i], color = 'black', ha = 'center', va = 'center', fontsize = 10)\n",
        "  cbar = plt.colorbar()\n",
        "  cbar.ax.tick_params(labelsize=15)  \n",
        "  cbar.set_label('SSC', fontsize = 15, labelpad = 15)\n",
        "  ax.set_xlabel('Principal Component 1', fontsize=15, labelpad = 20)\n",
        "  ax.set_ylabel('Principal Component 2', fontsize = 15, labelpad = 20)\n",
        "  ax.set_ylim(-0.65,0.8)\n",
        "  ax.set_xlim(-0.75,0.75)\n",
        "  ax.tick_params(labelsize = 15)\n",
        "  #ax.yticks(fontsize = 15)\n",
        "  plt.show()\n",
        "\n",
        "biplot(df.loc[:,'TI203':'T_wbulb'],x_new,y,loadings)"
      ],
      "execution_count": null,
      "outputs": [
        {
          "output_type": "display_data",
          "data": {
            "image/png": "[encoded data removed]",
            "text/plain": [
              "<Figure size 720x576 with 2 Axes>"
            ]
          },
          "metadata": {
            "tags": [],
            "needs_background": "light"
          }
        }
      ]
    },
    {
      "cell_type": "markdown",
      "metadata": {
        "id": "OTCP-ccGJomq"
      },
      "source": [
        "Pearson correlation coefficient"
      ]
    },
    {
      "cell_type": "code",
      "metadata": {
        "colab": {
          "base_uri": "https://localhost:8080/",
          "height": 217
        },
        "id": "Cc08DGm2AbPA",
        "outputId": "b25aa707-a9c8-4c2a-a860-3e6d3ed113f4"
      },
      "source": [
        "df.head()"
      ],
      "execution_count": null,
      "outputs": [
        {
          "output_type": "execute_result",
          "data": {
            "text/html": [
              "<div>\n",
              "<style scoped>\n",
              "    .dataframe tbody tr th:only-of-type {\n",
              "        vertical-align: middle;\n",
              "    }\n",
              "\n",
              "    .dataframe tbody tr th {\n",
              "        vertical-align: top;\n",
              "    }\n",
              "\n",
              "    .dataframe thead th {\n",
              "        text-align: right;\n",
              "    }\n",
              "</style>\n",
              "<table border=\"1\" class=\"dataframe\">\n",
              "  <thead>\n",
              "    <tr style=\"text-align: right;\">\n",
              "      <th></th>\n",
              "      <th>TI203</th>\n",
              "      <th>PI215</th>\n",
              "      <th>PI216</th>\n",
              "      <th>PI218</th>\n",
              "      <th>MP-1101</th>\n",
              "      <th>PI255A</th>\n",
              "      <th>TI405</th>\n",
              "      <th>TI401</th>\n",
              "      <th>FT402</th>\n",
              "      <th>T_wbulb</th>\n",
              "      <th>SSC_gros</th>\n",
              "    </tr>\n",
              "  </thead>\n",
              "  <tbody>\n",
              "    <tr>\n",
              "      <th>0</th>\n",
              "      <td>180.481644</td>\n",
              "      <td>8.881836</td>\n",
              "      <td>8.850586</td>\n",
              "      <td>9.065430</td>\n",
              "      <td>56.963112</td>\n",
              "      <td>0.148376</td>\n",
              "      <td>51.177979</td>\n",
              "      <td>27.636719</td>\n",
              "      <td>7362.840820</td>\n",
              "      <td>16.244543</td>\n",
              "      <td>8.068487</td>\n",
              "    </tr>\n",
              "    <tr>\n",
              "      <th>1</th>\n",
              "      <td>180.359772</td>\n",
              "      <td>8.923828</td>\n",
              "      <td>8.884766</td>\n",
              "      <td>9.096680</td>\n",
              "      <td>57.243774</td>\n",
              "      <td>0.150208</td>\n",
              "      <td>51.239014</td>\n",
              "      <td>27.783203</td>\n",
              "      <td>6879.880859</td>\n",
              "      <td>16.138443</td>\n",
              "      <td>8.034688</td>\n",
              "    </tr>\n",
              "    <tr>\n",
              "      <th>2</th>\n",
              "      <td>180.329300</td>\n",
              "      <td>8.931641</td>\n",
              "      <td>8.893555</td>\n",
              "      <td>9.090820</td>\n",
              "      <td>57.185303</td>\n",
              "      <td>0.149597</td>\n",
              "      <td>51.330566</td>\n",
              "      <td>27.795410</td>\n",
              "      <td>7206.157715</td>\n",
              "      <td>16.232552</td>\n",
              "      <td>8.036983</td>\n",
              "    </tr>\n",
              "    <tr>\n",
              "      <th>3</th>\n",
              "      <td>180.329300</td>\n",
              "      <td>8.920898</td>\n",
              "      <td>8.887695</td>\n",
              "      <td>9.096680</td>\n",
              "      <td>57.196999</td>\n",
              "      <td>0.149414</td>\n",
              "      <td>51.312256</td>\n",
              "      <td>27.783203</td>\n",
              "      <td>7182.403320</td>\n",
              "      <td>16.131260</td>\n",
              "      <td>8.032251</td>\n",
              "    </tr>\n",
              "    <tr>\n",
              "      <th>4</th>\n",
              "      <td>180.329300</td>\n",
              "      <td>8.928711</td>\n",
              "      <td>8.891602</td>\n",
              "      <td>9.088867</td>\n",
              "      <td>57.196999</td>\n",
              "      <td>0.149658</td>\n",
              "      <td>51.232910</td>\n",
              "      <td>27.734375</td>\n",
              "      <td>7300.821777</td>\n",
              "      <td>16.166405</td>\n",
              "      <td>8.048654</td>\n",
              "    </tr>\n",
              "  </tbody>\n",
              "</table>\n",
              "</div>"
            ],
            "text/plain": [
              "        TI203     PI215     PI216  ...        FT402    T_wbulb  SSC_gros\n",
              "0  180.481644  8.881836  8.850586  ...  7362.840820  16.244543  8.068487\n",
              "1  180.359772  8.923828  8.884766  ...  6879.880859  16.138443  8.034688\n",
              "2  180.329300  8.931641  8.893555  ...  7206.157715  16.232552  8.036983\n",
              "3  180.329300  8.920898  8.887695  ...  7182.403320  16.131260  8.032251\n",
              "4  180.329300  8.928711  8.891602  ...  7300.821777  16.166405  8.048654\n",
              "\n",
              "[5 rows x 11 columns]"
            ]
          },
          "metadata": {
            "tags": []
          },
          "execution_count": 21
        }
      ]
    },
    {
      "cell_type": "code",
      "metadata": {
        "id": "0AZ62OteBAF_"
      },
      "source": [
        "pearson = pd.DataFrame(df.corr())"
      ],
      "execution_count": null,
      "outputs": []
    },
    {
      "cell_type": "code",
      "metadata": {
        "id": "rRuTsEAKRD8j"
      },
      "source": [
        "pearson.to_excel('pearson.xlsx')"
      ],
      "execution_count": null,
      "outputs": []
    },
    {
      "cell_type": "code",
      "metadata": {
        "colab": {
          "base_uri": "https://localhost:8080/",
          "height": 610
        },
        "id": "Al4BkhUxIsBW",
        "outputId": "5c0c3af6-59a7-4093-ec85-49f06c19d91e"
      },
      "source": [
        "plt.figure(figsize=(10,10))\n",
        "plt.scatter(df.T_wbulb,df.SSC_gros)"
      ],
      "execution_count": null,
      "outputs": [
        {
          "output_type": "execute_result",
          "data": {
            "text/plain": [
              "<matplotlib.collections.PathCollection at 0x7fa490378ba8>"
            ]
          },
          "metadata": {
            "tags": []
          },
          "execution_count": 24
        },
        {
          "output_type": "display_data",
          "data": {
            "image/png": "[encoded data removed]",
            "text/plain": [
              "<Figure size 720x720 with 1 Axes>"
            ]
          },
          "metadata": {
            "tags": [],
            "needs_background": "light"
          }
        }
      ]
    },
    {
      "cell_type": "code",
      "metadata": {
        "colab": {
          "base_uri": "https://localhost:8080/",
          "height": 377
        },
        "id": "mDQPVmW0EBCl",
        "outputId": "b728b24b-6c42-4838-aa24-85b1bae7dde3"
      },
      "source": [
        "df.corr()"
      ],
      "execution_count": null,
      "outputs": [
        {
          "output_type": "execute_result",
          "data": {
            "text/html": [
              "<div>\n",
              "<style scoped>\n",
              "    .dataframe tbody tr th:only-of-type {\n",
              "        vertical-align: middle;\n",
              "    }\n",
              "\n",
              "    .dataframe tbody tr th {\n",
              "        vertical-align: top;\n",
              "    }\n",
              "\n",
              "    .dataframe thead th {\n",
              "        text-align: right;\n",
              "    }\n",
              "</style>\n",
              "<table border=\"1\" class=\"dataframe\">\n",
              "  <thead>\n",
              "    <tr style=\"text-align: right;\">\n",
              "      <th></th>\n",
              "      <th>TI203</th>\n",
              "      <th>PI215</th>\n",
              "      <th>PI216</th>\n",
              "      <th>PI218</th>\n",
              "      <th>MP-1101</th>\n",
              "      <th>PI255A</th>\n",
              "      <th>TI405</th>\n",
              "      <th>TI401</th>\n",
              "      <th>FT402</th>\n",
              "      <th>T_wbulb</th>\n",
              "      <th>SSC_gros</th>\n",
              "    </tr>\n",
              "  </thead>\n",
              "  <tbody>\n",
              "    <tr>\n",
              "      <th>TI203</th>\n",
              "      <td>1.000000</td>\n",
              "      <td>-0.356575</td>\n",
              "      <td>-0.345821</td>\n",
              "      <td>-0.328587</td>\n",
              "      <td>-0.077605</td>\n",
              "      <td>-0.405053</td>\n",
              "      <td>-0.380620</td>\n",
              "      <td>-0.327778</td>\n",
              "      <td>0.051470</td>\n",
              "      <td>-0.424865</td>\n",
              "      <td>-0.120381</td>\n",
              "    </tr>\n",
              "    <tr>\n",
              "      <th>PI215</th>\n",
              "      <td>-0.356575</td>\n",
              "      <td>1.000000</td>\n",
              "      <td>0.999170</td>\n",
              "      <td>0.980390</td>\n",
              "      <td>0.674917</td>\n",
              "      <td>0.895886</td>\n",
              "      <td>0.889720</td>\n",
              "      <td>0.794319</td>\n",
              "      <td>-0.001102</td>\n",
              "      <td>0.675967</td>\n",
              "      <td>-0.541348</td>\n",
              "    </tr>\n",
              "    <tr>\n",
              "      <th>PI216</th>\n",
              "      <td>-0.345821</td>\n",
              "      <td>0.999170</td>\n",
              "      <td>1.000000</td>\n",
              "      <td>0.980309</td>\n",
              "      <td>0.676041</td>\n",
              "      <td>0.895083</td>\n",
              "      <td>0.889439</td>\n",
              "      <td>0.796701</td>\n",
              "      <td>0.000385</td>\n",
              "      <td>0.671961</td>\n",
              "      <td>-0.550857</td>\n",
              "    </tr>\n",
              "    <tr>\n",
              "      <th>PI218</th>\n",
              "      <td>-0.328587</td>\n",
              "      <td>0.980390</td>\n",
              "      <td>0.980309</td>\n",
              "      <td>1.000000</td>\n",
              "      <td>0.662052</td>\n",
              "      <td>0.876031</td>\n",
              "      <td>0.879449</td>\n",
              "      <td>0.785882</td>\n",
              "      <td>-0.003648</td>\n",
              "      <td>0.661403</td>\n",
              "      <td>-0.544259</td>\n",
              "    </tr>\n",
              "    <tr>\n",
              "      <th>MP-1101</th>\n",
              "      <td>-0.077605</td>\n",
              "      <td>0.674917</td>\n",
              "      <td>0.676041</td>\n",
              "      <td>0.662052</td>\n",
              "      <td>1.000000</td>\n",
              "      <td>0.335674</td>\n",
              "      <td>0.375413</td>\n",
              "      <td>0.340655</td>\n",
              "      <td>0.040326</td>\n",
              "      <td>0.104778</td>\n",
              "      <td>-0.717104</td>\n",
              "    </tr>\n",
              "    <tr>\n",
              "      <th>PI255A</th>\n",
              "      <td>-0.405053</td>\n",
              "      <td>0.895886</td>\n",
              "      <td>0.895083</td>\n",
              "      <td>0.876031</td>\n",
              "      <td>0.335674</td>\n",
              "      <td>1.000000</td>\n",
              "      <td>0.939874</td>\n",
              "      <td>0.839500</td>\n",
              "      <td>-0.021414</td>\n",
              "      <td>0.842181</td>\n",
              "      <td>-0.305175</td>\n",
              "    </tr>\n",
              "    <tr>\n",
              "      <th>TI405</th>\n",
              "      <td>-0.380620</td>\n",
              "      <td>0.889720</td>\n",
              "      <td>0.889439</td>\n",
              "      <td>0.879449</td>\n",
              "      <td>0.375413</td>\n",
              "      <td>0.939874</td>\n",
              "      <td>1.000000</td>\n",
              "      <td>0.923842</td>\n",
              "      <td>0.000502</td>\n",
              "      <td>0.848319</td>\n",
              "      <td>-0.411134</td>\n",
              "    </tr>\n",
              "    <tr>\n",
              "      <th>TI401</th>\n",
              "      <td>-0.327778</td>\n",
              "      <td>0.794319</td>\n",
              "      <td>0.796701</td>\n",
              "      <td>0.785882</td>\n",
              "      <td>0.340655</td>\n",
              "      <td>0.839500</td>\n",
              "      <td>0.923842</td>\n",
              "      <td>1.000000</td>\n",
              "      <td>0.066063</td>\n",
              "      <td>0.766201</td>\n",
              "      <td>-0.464580</td>\n",
              "    </tr>\n",
              "    <tr>\n",
              "      <th>FT402</th>\n",
              "      <td>0.051470</td>\n",
              "      <td>-0.001102</td>\n",
              "      <td>0.000385</td>\n",
              "      <td>-0.003648</td>\n",
              "      <td>0.040326</td>\n",
              "      <td>-0.021414</td>\n",
              "      <td>0.000502</td>\n",
              "      <td>0.066063</td>\n",
              "      <td>1.000000</td>\n",
              "      <td>-0.033366</td>\n",
              "      <td>-0.111323</td>\n",
              "    </tr>\n",
              "    <tr>\n",
              "      <th>T_wbulb</th>\n",
              "      <td>-0.424865</td>\n",
              "      <td>0.675967</td>\n",
              "      <td>0.671961</td>\n",
              "      <td>0.661403</td>\n",
              "      <td>0.104778</td>\n",
              "      <td>0.842181</td>\n",
              "      <td>0.848319</td>\n",
              "      <td>0.766201</td>\n",
              "      <td>-0.033366</td>\n",
              "      <td>1.000000</td>\n",
              "      <td>-0.058858</td>\n",
              "    </tr>\n",
              "    <tr>\n",
              "      <th>SSC_gros</th>\n",
              "      <td>-0.120381</td>\n",
              "      <td>-0.541348</td>\n",
              "      <td>-0.550857</td>\n",
              "      <td>-0.544259</td>\n",
              "      <td>-0.717104</td>\n",
              "      <td>-0.305175</td>\n",
              "      <td>-0.411134</td>\n",
              "      <td>-0.464580</td>\n",
              "      <td>-0.111323</td>\n",
              "      <td>-0.058858</td>\n",
              "      <td>1.000000</td>\n",
              "    </tr>\n",
              "  </tbody>\n",
              "</table>\n",
              "</div>"
            ],
            "text/plain": [
              "             TI203     PI215     PI216  ...     FT402   T_wbulb  SSC_gros\n",
              "TI203     1.000000 -0.356575 -0.345821  ...  0.051470 -0.424865 -0.120381\n",
              "PI215    -0.356575  1.000000  0.999170  ... -0.001102  0.675967 -0.541348\n",
              "PI216    -0.345821  0.999170  1.000000  ...  0.000385  0.671961 -0.550857\n",
              "PI218    -0.328587  0.980390  0.980309  ... -0.003648  0.661403 -0.544259\n",
              "MP-1101  -0.077605  0.674917  0.676041  ...  0.040326  0.104778 -0.717104\n",
              "PI255A   -0.405053  0.895886  0.895083  ... -0.021414  0.842181 -0.305175\n",
              "TI405    -0.380620  0.889720  0.889439  ...  0.000502  0.848319 -0.411134\n",
              "TI401    -0.327778  0.794319  0.796701  ...  0.066063  0.766201 -0.464580\n",
              "FT402     0.051470 -0.001102  0.000385  ...  1.000000 -0.033366 -0.111323\n",
              "T_wbulb  -0.424865  0.675967  0.671961  ... -0.033366  1.000000 -0.058858\n",
              "SSC_gros -0.120381 -0.541348 -0.550857  ... -0.111323 -0.058858  1.000000\n",
              "\n",
              "[11 rows x 11 columns]"
            ]
          },
          "metadata": {
            "tags": []
          },
          "execution_count": 26
        }
      ]
    },
    {
      "cell_type": "markdown",
      "metadata": {
        "id": "C1RPPL-VAxe8"
      },
      "source": [
        "Done......"
      ]
    },
    {
      "cell_type": "code",
      "metadata": {
        "id": "h5zPAuWdJTsh"
      },
      "source": [
        "t_wbulb = df.T_wbulb\n",
        "ssc = df.SSC_gros"
      ],
      "execution_count": null,
      "outputs": []
    },
    {
      "cell_type": "code",
      "metadata": {
        "id": "wfggtHdfE6c_"
      },
      "source": [
        "from sklearn.preprocessing import PolynomialFeatures\n",
        "poly = PolynomialFeatures(4)\n",
        "t_wbulb_poly=poly.fit_transform(t_wbulb.values.reshape(-1,1))"
      ],
      "execution_count": null,
      "outputs": []
    },
    {
      "cell_type": "code",
      "metadata": {
        "id": "jnH9fjbqF33g"
      },
      "source": [
        "from sklearn.preprocessing import PolynomialFeatures\n",
        "poly_ssc = PolynomialFeatures(4)\n",
        "ssc_poly=poly_ssc.fit_transform(ssc.values.reshape(-1,1))"
      ],
      "execution_count": null,
      "outputs": []
    },
    {
      "cell_type": "code",
      "metadata": {
        "id": "mmZmjU-jG11L"
      },
      "source": [
        "df_t_wbulb = pd.DataFrame(data = t_wbulb_poly)\n",
        "df_ssc = pd.DataFrame(data = ssc_poly)\n",
        "#df_poly.merge(pd.DataFrame(data=ssc_poly, columns='ssc'))\n",
        "#df_poly.corr()\n",
        "var_x = pd.DataFrame(df_t_wbulb[df_t_wbulb.columns[3]])\n",
        "var_y = pd.DataFrame(df_ssc[df_ssc.columns[1]])\n",
        "\n",
        "df_poly = pd.concat([var_x,var_y], axis=1)"
      ],
      "execution_count": null,
      "outputs": []
    },
    {
      "cell_type": "code",
      "metadata": {
        "id": "NB36iedHNQVI"
      },
      "source": [
        "df_poly"
      ],
      "execution_count": null,
      "outputs": []
    },
    {
      "cell_type": "code",
      "metadata": {
        "id": "HPE3FYSSMJlY"
      },
      "source": [
        "df_poly.corr()"
      ],
      "execution_count": null,
      "outputs": []
    },
    {
      "cell_type": "code",
      "metadata": {
        "id": "ZVlVpUfoIOZa"
      },
      "source": [
        "plt.plot(df_poly[df_poly.columns[4]])"
      ],
      "execution_count": null,
      "outputs": []
    },
    {
      "cell_type": "code",
      "metadata": {
        "id": "Tcw8-ValIqN5"
      },
      "source": [
        "plt.plot(df_poly[df_poly.columns[1]])"
      ],
      "execution_count": null,
      "outputs": []
    },
    {
      "cell_type": "code",
      "metadata": {
        "id": "m8XcLHLjKUw4"
      },
      "source": [
        ""
      ],
      "execution_count": null,
      "outputs": []
    }
  ]
}